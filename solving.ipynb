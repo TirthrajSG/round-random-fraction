{
 "cells": [
  {
   "cell_type": "markdown",
   "id": "5c91873b",
   "metadata": {},
   "source": [
    "### Two numbers X and Y are chosen between 1 and 0. What is the probability that X/Y will round to a even number."
   ]
  },
  {
   "cell_type": "markdown",
   "id": "fea2b228",
   "metadata": {},
   "source": []
  },
  {
   "cell_type": "code",
   "execution_count": null,
   "id": "c469a147",
   "metadata": {},
   "outputs": [],
   "source": [
    "%matplotlib inline\n",
    "import matplotlib.pyplot as plt\n",
    "\n",
    "x = [1, 2, 3, 4, 5]\n",
    "y = [1, 4, 9, 16, 25]\n",
    "\n",
    "plt.plot(x, y, marker='o', color='blue', linestyle='--')\n",
    "plt.title(\"Line Graph in Jupyter\")\n",
    "plt.xlabel(\"X-axis\")\n",
    "plt.ylabel(\"Y-axis\")\n",
    "plt.show()\n"
   ]
  }
 ],
 "metadata": {
  "kernelspec": {
   "display_name": "Python 3",
   "language": "python",
   "name": "python3"
  },
  "language_info": {
   "name": "python",
   "version": "3.13.7"
  }
 },
 "nbformat": 4,
 "nbformat_minor": 5
}
